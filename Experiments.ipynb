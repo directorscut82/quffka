{
 "cells": [
  {
   "cell_type": "code",
   "execution_count": 1,
   "metadata": {},
   "outputs": [
    {
     "data": {
      "application/javascript": [
       "\n",
       "Jupyter.keyboard_manager.command_shortcuts.add_shortcut('r', {\n",
       "    help : 'run all cells',\n",
       "    help_index : 'zz',\n",
       "    handler : function (event) {\n",
       "        IPython.notebook.execute_all_cells();\n",
       "        return false;\n",
       "    }}\n",
       ");"
      ],
      "text/plain": [
       "<IPython.core.display.Javascript object>"
      ]
     },
     "metadata": {},
     "output_type": "display_data"
    }
   ],
   "source": [
    "%%javascript\n",
    "\n",
    "Jupyter.keyboard_manager.command_shortcuts.add_shortcut('r', {\n",
    "    help : 'run all cells',\n",
    "    help_index : 'zz',\n",
    "    handler : function (event) {\n",
    "        IPython.notebook.execute_all_cells();\n",
    "        return false;\n",
    "    }}\n",
    ");"
   ]
  },
  {
   "cell_type": "code",
   "execution_count": 2,
   "metadata": {},
   "outputs": [
    {
     "name": "stdout",
     "output_type": "stream",
     "text": [
      "env: NUMBA_WARNINGS=1\n",
      "env: NUMBA_NUM_THREADS=12\n",
      "16\n",
      "12\n"
     ]
    }
   ],
   "source": [
    "%env NUMBA_WARNINGS 1\n",
    "%env NUMBA_NUM_THREADS 12\n",
    "\n",
    "import ctypes\n",
    "mkl_rt = ctypes.CDLL('libmkl_rt.so')\n",
    "print(mkl_rt.mkl_get_max_threads())\n",
    "mkl_get_max_threads = mkl_rt.mkl_get_max_threads\n",
    "def mkl_set_num_threads(cores):\n",
    "    mkl_rt.mkl_set_num_threads(ctypes.byref(ctypes.c_int(cores)))\n",
    "mkl_set_num_threads(12)\n",
    "print(mkl_get_max_threads())"
   ]
  },
  {
   "cell_type": "code",
   "execution_count": 3,
   "metadata": {},
   "outputs": [
    {
     "name": "stderr",
     "output_type": "stream",
     "text": [
      "Use token from .telepythrc.\n"
     ]
    }
   ],
   "source": [
    "import matplotlib.pyplot as plt\n",
    "%matplotlib inline\n",
    "import numpy as np\n",
    "\n",
    "import os\n",
    "import pickle as pkl\n",
    "from telepyth import TelepythClient\n",
    "import time\n",
    "\n",
    "from approximate import APPROX\n",
    "from experiment import relative_errors\n",
    "from dataset import make_dataset\n",
    "from visualize import plot"
   ]
  },
  {
   "cell_type": "markdown",
   "metadata": {},
   "source": [
    "# USPS"
   ]
  },
  {
   "cell_type": "code",
   "execution_count": 4,
   "metadata": {},
   "outputs": [],
   "source": [
    "approx_types = ['G', 'Gort', 'ROM', 'QMC', 'GQ', 'B']\n",
    "# halton sequence generator cannot generate large enough sequences for datasets CIFAR100 and LEUKEMIA\n",
    "# same with GQ method, where the scipy Hermite polynomials roots generator also restricts the max dataset dim.\n",
    "approx_types_large_d = ['G', 'Gort', 'ROM', 'B']"
   ]
  },
  {
   "cell_type": "code",
   "execution_count": 5,
   "metadata": {},
   "outputs": [],
   "source": [
    "datasets = ['USPS', 'LETTER', 'Powerplant', 'MNIST', 'CIFAR100', 'LEUKEMIA']"
   ]
  },
  {
   "cell_type": "code",
   "execution_count": 10,
   "metadata": {},
   "outputs": [],
   "source": [
    "datasets = ['LEUKEMIA'] #['LETTER', 'Powerplant', 'MNIST', 'CIFAR100', 'LEUKEMIA']"
   ]
  },
  {
   "cell_type": "code",
   "execution_count": 11,
   "metadata": {},
   "outputs": [],
   "source": [
    "kernels = ['Arccos 1', 'RBF', 'Arccos 0']"
   ]
  },
  {
   "cell_type": "code",
   "execution_count": null,
   "metadata": {
    "scrolled": false
   },
   "outputs": [
    {
     "name": "stderr",
     "output_type": "stream",
     "text": [
      "\r",
      "  0%|          | 0/4 [00:00<?, ?it/s]"
     ]
    },
    {
     "name": "stdout",
     "output_type": "stream",
     "text": [
      "G\n"
     ]
    },
    {
     "name": "stderr",
     "output_type": "stream",
     "text": [
      "\r",
      " 25%|██▌       | 1/4 [00:39<01:57, 39.33s/it]"
     ]
    },
    {
     "name": "stdout",
     "output_type": "stream",
     "text": [
      "Gort\n"
     ]
    },
    {
     "name": "stderr",
     "output_type": "stream",
     "text": [
      "\r",
      " 50%|█████     | 2/4 [03:07<02:24, 72.00s/it]"
     ]
    },
    {
     "name": "stdout",
     "output_type": "stream",
     "text": [
      "ROM\n"
     ]
    },
    {
     "name": "stderr",
     "output_type": "stream",
     "text": [
      "\r",
      " 75%|███████▌  | 3/4 [07:48<02:14, 134.56s/it]"
     ]
    },
    {
     "name": "stdout",
     "output_type": "stream",
     "text": [
      "B\n"
     ]
    },
    {
     "name": "stderr",
     "output_type": "stream",
     "text": [
      "100%|██████████| 4/4 [07:52<00:00, 95.56s/it] \n",
      "  0%|          | 0/4 [00:00<?, ?it/s]"
     ]
    },
    {
     "name": "stdout",
     "output_type": "stream",
     "text": [
      "G\n"
     ]
    },
    {
     "name": "stderr",
     "output_type": "stream",
     "text": [
      "\r",
      " 25%|██▌       | 1/4 [00:34<01:44, 34.85s/it]"
     ]
    },
    {
     "name": "stdout",
     "output_type": "stream",
     "text": [
      "Gort\n"
     ]
    }
   ],
   "source": [
    "%%time\n",
    "%%telepyth\n",
    "sample_params = [1, 3, 1, 0, 1, 10, 50]\n",
    "for name in datasets:\n",
    "    X, Y, params = make_dataset(name, sample_params)\n",
    "    errs = {}\n",
    "    start_deg, max_deg, step, shift, runs, _, _ = params\n",
    "    if X.shape[1] > 784:\n",
    "        approx_types = approx_types_large_d\n",
    "        \n",
    "    for kernel in kernels:\n",
    "        errs[kernel] = relative_errors(X, Y, kernel, approx_types, start_deg, max_deg, step, shift, runs)\n",
    "        \n",
    "    directory = 'results/%s/' % name\n",
    "    if not os.path.exists(directory):\n",
    "        os.makedirs(directory)\n",
    "\n",
    "    with open(directory + '%s_%r_%r' % (name, kernels, params), 'wb') as f:\n",
    "        pkl.dump(errs, f)\n",
    "        \n",
    "    plot(errs)"
   ]
  },
  {
   "cell_type": "code",
   "execution_count": null,
   "metadata": {},
   "outputs": [],
   "source": []
  }
 ],
 "metadata": {
  "kernelspec": {
   "display_name": "Python 3",
   "language": "python",
   "name": "python3"
  },
  "language_info": {
   "codemirror_mode": {
    "name": "ipython",
    "version": 3
   },
   "file_extension": ".py",
   "mimetype": "text/x-python",
   "name": "python",
   "nbconvert_exporter": "python",
   "pygments_lexer": "ipython3",
   "version": "3.5.4"
  }
 },
 "nbformat": 4,
 "nbformat_minor": 2
}
