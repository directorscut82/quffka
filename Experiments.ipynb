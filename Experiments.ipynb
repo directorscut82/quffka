{
 "cells": [
  {
   "cell_type": "code",
   "execution_count": 9,
   "metadata": {},
   "outputs": [
    {
     "data": {
      "application/javascript": [
       "\n",
       "Jupyter.keyboard_manager.command_shortcuts.add_shortcut('r', {\n",
       "    help : 'run all cells',\n",
       "    help_index : 'zz',\n",
       "    handler : function (event) {\n",
       "        IPython.notebook.execute_all_cells();\n",
       "        return false;\n",
       "    }}\n",
       ");"
      ],
      "text/plain": [
       "<IPython.core.display.Javascript object>"
      ]
     },
     "metadata": {},
     "output_type": "display_data"
    }
   ],
   "source": [
    "%%javascript\n",
    "\n",
    "Jupyter.keyboard_manager.command_shortcuts.add_shortcut('r', {\n",
    "    help : 'run all cells',\n",
    "    help_index : 'zz',\n",
    "    handler : function (event) {\n",
    "        IPython.notebook.execute_all_cells();\n",
    "        return false;\n",
    "    }}\n",
    ");"
   ]
  },
  {
   "cell_type": "code",
   "execution_count": 17,
   "metadata": {},
   "outputs": [
    {
     "name": "stdout",
     "output_type": "stream",
     "text": [
      "env: NUMBA_WARNINGS=1\n",
      "env: NUMBA_NUM_THREADS=24\n",
      "16\n",
      "24\n"
     ]
    }
   ],
   "source": [
    "%env NUMBA_WARNINGS 1\n",
    "%env NUMBA_NUM_THREADS 24\n",
    "\n",
    "import ctypes\n",
    "mkl_rt = ctypes.CDLL('libmkl_rt.so')\n",
    "print(mkl_rt.mkl_get_max_threads())\n",
    "mkl_get_max_threads = mkl_rt.mkl_get_max_threads\n",
    "def mkl_set_num_threads(cores):\n",
    "    mkl_rt.mkl_set_num_threads(ctypes.byref(ctypes.c_int(cores)))\n",
    "mkl_set_num_threads(24)\n",
    "print(mkl_get_max_threads())"
   ]
  },
  {
   "cell_type": "code",
   "execution_count": 18,
   "metadata": {},
   "outputs": [],
   "source": [
    "import matplotlib.pyplot as plt\n",
    "%matplotlib inline\n",
    "import numpy as np\n",
    "\n",
    "import os\n",
    "import pickle as pkl\n",
    "from telepyth import TelepythClient\n",
    "import time\n",
    "\n",
    "from approximate import APPROX\n",
    "from experiment import relative_errors\n",
    "from dataset import make_dataset\n",
    "from visualize import plot"
   ]
  },
  {
   "cell_type": "markdown",
   "metadata": {},
   "source": [
    "# USPS"
   ]
  },
  {
   "cell_type": "code",
   "execution_count": 19,
   "metadata": {},
   "outputs": [],
   "source": [
    "approx_types = ['G', 'Gort', 'ROM', 'QMC', 'GQ', 'B']\n",
    "# halton sequence generator cannot generate large enough sequences for datasets CIFAR100 and LEUKEMIA\n",
    "# same with GQ method, where the scipy Hermite polynomials roots generator also restricts the max dataset dim.\n",
    "approx_types_large_d = ['G', 'Gort', 'ROM', 'B']"
   ]
  },
  {
   "cell_type": "code",
   "execution_count": 20,
   "metadata": {},
   "outputs": [],
   "source": [
    "datasets = ['USPS', 'LETTER', 'Powerplant', 'MNIST', 'CIFAR100', 'LEUKEMIA']"
   ]
  },
  {
   "cell_type": "code",
   "execution_count": 21,
   "metadata": {},
   "outputs": [],
   "source": [
    "# datasets = ['LEUKEMIA'] #['LETTER', 'Powerplant', 'MNIST', 'CIFAR100', 'LEUKEMIA']"
   ]
  },
  {
   "cell_type": "code",
   "execution_count": 22,
   "metadata": {},
   "outputs": [],
   "source": [
    "kernels = ['Arccos 1', 'RBF', 'Arccos 0']"
   ]
  },
  {
   "cell_type": "code",
   "execution_count": null,
   "metadata": {
    "scrolled": false
   },
   "outputs": [
    {
     "name": "stderr",
     "output_type": "stream",
     "text": [
      "\r",
      "  0%|          | 0/6 [00:00<?, ?it/s]"
     ]
    },
    {
     "name": "stdout",
     "output_type": "stream",
     "text": [
      "G\n"
     ]
    },
    {
     "name": "stderr",
     "output_type": "stream",
     "text": [
      "\r",
      " 17%|█▋        | 1/6 [03:19<16:37, 199.46s/it]"
     ]
    },
    {
     "name": "stdout",
     "output_type": "stream",
     "text": [
      "Gort\n"
     ]
    },
    {
     "name": "stderr",
     "output_type": "stream",
     "text": [
      "\r",
      " 33%|███▎      | 2/6 [07:25<14:13, 213.36s/it]"
     ]
    },
    {
     "name": "stdout",
     "output_type": "stream",
     "text": [
      "ROM\n"
     ]
    },
    {
     "name": "stderr",
     "output_type": "stream",
     "text": [
      "\r",
      " 50%|█████     | 3/6 [10:12<09:58, 199.53s/it]"
     ]
    },
    {
     "name": "stdout",
     "output_type": "stream",
     "text": [
      "QMC\n"
     ]
    },
    {
     "name": "stderr",
     "output_type": "stream",
     "text": [
      "\r",
      " 67%|██████▋   | 4/6 [16:53<08:40, 260.10s/it]"
     ]
    },
    {
     "name": "stdout",
     "output_type": "stream",
     "text": [
      "GQ\n"
     ]
    },
    {
     "name": "stderr",
     "output_type": "stream",
     "text": [
      "\r",
      " 83%|████████▎ | 5/6 [21:22<04:22, 262.70s/it]"
     ]
    },
    {
     "name": "stdout",
     "output_type": "stream",
     "text": [
      "B\n"
     ]
    },
    {
     "name": "stderr",
     "output_type": "stream",
     "text": [
      "100%|██████████| 6/6 [25:58<00:00, 266.61s/it]\n",
      "  0%|          | 0/6 [00:00<?, ?it/s]"
     ]
    },
    {
     "name": "stdout",
     "output_type": "stream",
     "text": [
      "G\n"
     ]
    },
    {
     "name": "stderr",
     "output_type": "stream",
     "text": [
      "\r",
      " 17%|█▋        | 1/6 [08:56<44:42, 536.58s/it]"
     ]
    },
    {
     "name": "stdout",
     "output_type": "stream",
     "text": [
      "Gort\n"
     ]
    },
    {
     "name": "stderr",
     "output_type": "stream",
     "text": [
      "\r",
      " 33%|███▎      | 2/6 [18:39<36:41, 550.33s/it]"
     ]
    },
    {
     "name": "stdout",
     "output_type": "stream",
     "text": [
      "ROM\n"
     ]
    },
    {
     "name": "stderr",
     "output_type": "stream",
     "text": [
      "\r",
      " 50%|█████     | 3/6 [27:08<26:54, 538.05s/it]"
     ]
    },
    {
     "name": "stdout",
     "output_type": "stream",
     "text": [
      "QMC\n"
     ]
    }
   ],
   "source": [
    "%%time\n",
    "%%telepyth\n",
    "sample_params = None  # [1, 2, 1, 0, 1, 5, 50]\n",
    "for name in datasets:\n",
    "    X, Y, params = make_dataset(name, sample_params)\n",
    "    errs = {}\n",
    "    start_deg, max_deg, runs, shift, step, _, _ = params\n",
    "    if X.shape[1] > 784:\n",
    "        approx_types = approx_types_large_d\n",
    "        \n",
    "    for kernel in kernels:\n",
    "        errs[kernel] = relative_errors(X, Y, kernel, approx_types, start_deg, max_deg, step, shift, runs)\n",
    "        \n",
    "    directory = 'results/%s/' % name\n",
    "    if not os.path.exists(directory):\n",
    "        os.makedirs(directory)\n",
    "\n",
    "    with open(directory + '%s_%r_%r' % (name, kernels, params), 'wb') as f:\n",
    "        pkl.dump(errs, f)\n",
    "        \n",
    "    plot(errs)"
   ]
  },
  {
   "cell_type": "code",
   "execution_count": null,
   "metadata": {},
   "outputs": [],
   "source": []
  }
 ],
 "metadata": {
  "kernelspec": {
   "display_name": "Python 3",
   "language": "python",
   "name": "python3"
  },
  "language_info": {
   "codemirror_mode": {
    "name": "ipython",
    "version": 3
   },
   "file_extension": ".py",
   "mimetype": "text/x-python",
   "name": "python",
   "nbconvert_exporter": "python",
   "pygments_lexer": "ipython3",
   "version": "3.5.4"
  }
 },
 "nbformat": 4,
 "nbformat_minor": 2
}
